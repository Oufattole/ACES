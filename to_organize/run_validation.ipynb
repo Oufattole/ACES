{
 "cells": [
  {
   "cell_type": "code",
   "execution_count": 1,
   "metadata": {},
   "outputs": [
    {
     "name": "stderr",
     "output_type": "stream",
     "text": [
      "/home/justinxu/miniconda3/envs/esgpt/lib/python3.10/site-packages/tqdm/auto.py:21: TqdmWarning: IProgress not found. Please update jupyter and ipywidgets. See https://ipywidgets.readthedocs.io/en/stable/user_install.html\n",
      "  from .autonotebook import tqdm as notebook_tqdm\n"
     ]
    },
    {
     "data": {
      "text/plain": [
       "'/home/justinxu/esgpt/ESGPTTaskQuerying/to_organize'"
      ]
     },
     "execution_count": 1,
     "metadata": {},
     "output_type": "execute_result"
    }
   ],
   "source": [
    "import os\n",
    "import pandas as pd\n",
    "import polars as pl\n",
    "from pathlib import Path\n",
    "\n",
    "from esgpt_task_querying import main\n",
    "from EventStream.data.dataset_polars import Dataset\n",
    "\n",
    "%load_ext autoreload\n",
    "%autoreload 2\n",
    "\n",
    "pd.set_option('display.max_rows', 100)\n",
    "pl.Config.set_tbl_cols(100)\n",
    "pl.Config.set_tbl_rows(100)\n",
    "\n",
    "data_path = '../MIMIC_ESD_new_schema_08-31-23-1'\n",
    "os.getcwd()"
   ]
  },
  {
   "cell_type": "code",
   "execution_count": 2,
   "metadata": {},
   "outputs": [
    {
     "name": "stdout",
     "output_type": "stream",
     "text": [
      "Updating config.save_dir from /n/data1/hms/dbmi/zaklab/RAMMS/data/MIMIC_IV/ESD_new_schema_08-31-23-1 to ../MIMIC_ESD_new_schema_08-31-23-1\n",
      "Loading events from ../MIMIC_ESD_new_schema_08-31-23-1/events_df.parquet...\n",
      "Loading dynamic_measurements from ../MIMIC_ESD_new_schema_08-31-23-1/dynamic_measurements_df.parquet...\n"
     ]
    }
   ],
   "source": [
    "DATA_DIR = Path(data_path)\n",
    "ESD = Dataset.load(DATA_DIR)\n",
    "\n",
    "events_df = ESD.events_df.filter(~pl.all_horizontal(pl.all().is_null()))\n",
    "dynamic_measurements_df = ESD.dynamic_measurements_df.filter(\n",
    "    ~pl.all_horizontal(pl.all().is_null())\n",
    ")\n",
    "\n",
    "ESD_data = (\n",
    "    events_df.join(dynamic_measurements_df, on=\"event_id\", how=\"left\")\n",
    "    .drop([\"event_id\"])\n",
    "    .sort(by=[\"subject_id\", \"timestamp\", \"event_type\"])\n",
    ")\n",
    "\n",
    "if ESD_data[\"timestamp\"].dtype != pl.Datetime:\n",
    "    ESD_data = ESD_data.with_columns(\n",
    "        pl.col(\"timestamp\")\n",
    "        .str.strptime(pl.Datetime, format=\"%m/%d/%Y %H:%M\")\n",
    "        .cast(pl.Datetime)\n",
    "    )"
   ]
  },
  {
   "cell_type": "code",
   "execution_count": 3,
   "metadata": {},
   "outputs": [],
   "source": [
    "def has_event_type(type_str: str) -> pl.Expr:\n",
    "    has_event_type = pl.col(\"event_type\").cast(pl.Utf8).str.contains(type_str)\n",
    "    # has_event_type = event_types.str.contains(type_str)\n",
    "    return has_event_type"
   ]
  },
  {
   "cell_type": "markdown",
   "metadata": {},
   "source": [
    "### In-Hospital Mortality"
   ]
  },
  {
   "cell_type": "markdown",
   "metadata": {},
   "source": [
    "Query"
   ]
  },
  {
   "cell_type": "code",
   "execution_count": 4,
   "metadata": {},
   "outputs": [],
   "source": [
    "config_path = 'test_configs/inhospital_mortality.yaml'"
   ]
  },
  {
   "cell_type": "code",
   "execution_count": 5,
   "metadata": {},
   "outputs": [
    {
     "name": "stdout",
     "output_type": "stream",
     "text": [
      "Added predicate column is_admission.\n",
      "Added predicate column is_discharge.\n",
      "Added predicate column is_death.\n",
      "Added predicate column is_discharge_or_death.\n",
      "Updating config.save_dir from /n/data1/hms/dbmi/zaklab/RAMMS/data/MIMIC_IV/ESD_new_schema_08-31-23-1 to ../MIMIC_ESD_new_schema_08-31-23-1\n",
      "Loading events from ../MIMIC_ESD_new_schema_08-31-23-1/events_df.parquet...\n",
      "Loading dynamic_measurements from ../MIMIC_ESD_new_schema_08-31-23-1/dynamic_measurements_df.parquet...\n",
      "Loading config...\n",
      "\n",
      "Generating predicate columns...\n",
      "\n",
      "Added predicate column is_admission.\n",
      "Added predicate column is_discharge.\n",
      "Added predicate column is_death.\n",
      "Added predicate column is_discharge_or_death.\n",
      "\n",
      "Building tree...\n",
      "trigger\n",
      "┣━━ gap\n",
      "┃   ┗━━ target\n",
      "┗━━ input\n",
      "\n",
      "\n",
      "12127 subjects (14623763 rows) were excluded due to trigger condition: {'predicate': 'admission', 'min': 1, 'max': 1}.\n",
      "\n",
      "\n",
      "Querying...\n",
      "\n",
      "\n",
      "Querying subtree rooted at gap...\n",
      "858 subjects (1478 rows) were excluded due to constraint: [(col(\"is_admission\")) <= (0)].\n",
      "9472 subjects (31283 rows) were excluded due to constraint: [(col(\"is_discharge\")) <= (0)].\n",
      "1 subjects (1 rows) were excluded due to constraint: [(col(\"is_death\")) <= (0)].\n",
      "\n",
      "\n",
      "Querying subtree rooted at target...\n",
      "64 subjects (86 rows) were excluded due to constraint: [(col(\"is_discharge_or_death\")) >= (1)].\n",
      "7298 subjects (23310 rows) were excluded due to constraint: [(col(\"is_discharge_or_death\")) <= (1)].\n",
      "\n",
      "\n",
      "Querying subtree rooted at input...\n",
      "12127 subjects (64492 rows) were excluded due to constraint: [(col(\"is_any\")) >= (100)].\n",
      "4122 subjects (5933 rows) were excluded due to constraint: [(col(\"is_any\")) <= (110)].\n",
      "\n",
      "\n",
      "Done.\n",
      "\n"
     ]
    }
   ],
   "source": [
    "cfg = main.load_config(config_path)\n",
    "ESD_data = main.generate_predicate_columns(cfg, ESD_data)\n",
    "\n",
    "df_result = main.query_task(config_path, data_path, verbose=True)"
   ]
  },
  {
   "cell_type": "markdown",
   "metadata": {},
   "source": [
    "Validation"
   ]
  },
  {
   "cell_type": "code",
   "execution_count": 6,
   "metadata": {},
   "outputs": [],
   "source": [
    "validation = df_result.sample(10).to_pandas()"
   ]
  },
  {
   "cell_type": "code",
   "execution_count": 7,
   "metadata": {},
   "outputs": [
    {
     "data": {
      "text/html": [
       "<div>\n",
       "<style scoped>\n",
       "    .dataframe tbody tr th:only-of-type {\n",
       "        vertical-align: middle;\n",
       "    }\n",
       "\n",
       "    .dataframe tbody tr th {\n",
       "        vertical-align: top;\n",
       "    }\n",
       "\n",
       "    .dataframe thead th {\n",
       "        text-align: right;\n",
       "    }\n",
       "</style>\n",
       "<table border=\"1\" class=\"dataframe\">\n",
       "  <thead>\n",
       "    <tr style=\"text-align: right;\">\n",
       "      <th></th>\n",
       "      <th>subject_id</th>\n",
       "      <th>trigger/timestamp</th>\n",
       "      <th>gap/timestamp</th>\n",
       "      <th>target/timestamp</th>\n",
       "      <th>input/timestamp</th>\n",
       "      <th>gap/window_summary</th>\n",
       "      <th>target/window_summary</th>\n",
       "      <th>input/window_summary</th>\n",
       "      <th>label</th>\n",
       "    </tr>\n",
       "  </thead>\n",
       "  <tbody>\n",
       "    <tr>\n",
       "      <th>0</th>\n",
       "      <td>4933</td>\n",
       "      <td>2141-10-20 15:56:00</td>\n",
       "      <td>2141-10-24 15:56:00</td>\n",
       "      <td>2141-11-04 16:40:00</td>\n",
       "      <td>2141-09-20 15:56:00</td>\n",
       "      <td>{'is_admission': 0, 'is_discharge': 0, 'is_dea...</td>\n",
       "      <td>{'is_admission': 0, 'is_discharge': 1, 'is_dea...</td>\n",
       "      <td>{'is_admission': 2, 'is_discharge': 2, 'is_dea...</td>\n",
       "      <td>0</td>\n",
       "    </tr>\n",
       "    <tr>\n",
       "      <th>1</th>\n",
       "      <td>8324</td>\n",
       "      <td>2140-11-13 14:31:00</td>\n",
       "      <td>2140-11-17 14:31:00</td>\n",
       "      <td>2140-11-21 17:03:00</td>\n",
       "      <td>2140-10-14 14:31:00</td>\n",
       "      <td>{'is_admission': 0, 'is_discharge': 0, 'is_dea...</td>\n",
       "      <td>{'is_admission': 0, 'is_discharge': 1, 'is_dea...</td>\n",
       "      <td>{'is_admission': 2, 'is_discharge': 1, 'is_dea...</td>\n",
       "      <td>0</td>\n",
       "    </tr>\n",
       "    <tr>\n",
       "      <th>2</th>\n",
       "      <td>11955</td>\n",
       "      <td>2200-07-27 20:33:00</td>\n",
       "      <td>2200-07-31 20:33:00</td>\n",
       "      <td>2200-08-09 14:59:00</td>\n",
       "      <td>2200-06-27 20:33:00</td>\n",
       "      <td>{'is_admission': 0, 'is_discharge': 0, 'is_dea...</td>\n",
       "      <td>{'is_admission': 0, 'is_discharge': 1, 'is_dea...</td>\n",
       "      <td>{'is_admission': 2, 'is_discharge': 1, 'is_dea...</td>\n",
       "      <td>0</td>\n",
       "    </tr>\n",
       "    <tr>\n",
       "      <th>3</th>\n",
       "      <td>3912</td>\n",
       "      <td>2147-09-22 18:32:00</td>\n",
       "      <td>2147-09-26 18:32:00</td>\n",
       "      <td>2147-10-04 15:39:00</td>\n",
       "      <td>2147-08-23 18:32:00</td>\n",
       "      <td>{'is_admission': 0, 'is_discharge': 0, 'is_dea...</td>\n",
       "      <td>{'is_admission': 0, 'is_discharge': 1, 'is_dea...</td>\n",
       "      <td>{'is_admission': 2, 'is_discharge': 1, 'is_dea...</td>\n",
       "      <td>0</td>\n",
       "    </tr>\n",
       "    <tr>\n",
       "      <th>4</th>\n",
       "      <td>6290</td>\n",
       "      <td>2183-07-09 08:15:00</td>\n",
       "      <td>2183-07-13 08:15:00</td>\n",
       "      <td>2183-07-13 18:11:00</td>\n",
       "      <td>2183-06-09 08:15:00</td>\n",
       "      <td>{'is_admission': 0, 'is_discharge': 0, 'is_dea...</td>\n",
       "      <td>{'is_admission': 0, 'is_discharge': 1, 'is_dea...</td>\n",
       "      <td>{'is_admission': 3, 'is_discharge': 3, 'is_dea...</td>\n",
       "      <td>0</td>\n",
       "    </tr>\n",
       "    <tr>\n",
       "      <th>5</th>\n",
       "      <td>10153</td>\n",
       "      <td>2165-03-14 23:59:00</td>\n",
       "      <td>2165-03-18 23:59:00</td>\n",
       "      <td>2165-03-19 14:22:00</td>\n",
       "      <td>2165-02-12 23:59:00</td>\n",
       "      <td>{'is_admission': 0, 'is_discharge': 0, 'is_dea...</td>\n",
       "      <td>{'is_admission': 0, 'is_discharge': 1, 'is_dea...</td>\n",
       "      <td>{'is_admission': 2, 'is_discharge': 1, 'is_dea...</td>\n",
       "      <td>0</td>\n",
       "    </tr>\n",
       "    <tr>\n",
       "      <th>6</th>\n",
       "      <td>5663</td>\n",
       "      <td>2150-01-15 13:55:00</td>\n",
       "      <td>2150-01-19 13:55:00</td>\n",
       "      <td>2150-02-13 12:27:00</td>\n",
       "      <td>2149-12-16 13:55:00</td>\n",
       "      <td>{'is_admission': 0, 'is_discharge': 0, 'is_dea...</td>\n",
       "      <td>{'is_admission': 0, 'is_discharge': 1, 'is_dea...</td>\n",
       "      <td>{'is_admission': 1, 'is_discharge': 1, 'is_dea...</td>\n",
       "      <td>0</td>\n",
       "    </tr>\n",
       "    <tr>\n",
       "      <th>7</th>\n",
       "      <td>6958</td>\n",
       "      <td>2162-07-17 14:31:00</td>\n",
       "      <td>2162-07-21 14:31:00</td>\n",
       "      <td>2162-07-22 13:30:00</td>\n",
       "      <td>2162-06-17 14:31:00</td>\n",
       "      <td>{'is_admission': 0, 'is_discharge': 0, 'is_dea...</td>\n",
       "      <td>{'is_admission': 0, 'is_discharge': 1, 'is_dea...</td>\n",
       "      <td>{'is_admission': 3, 'is_discharge': 2, 'is_dea...</td>\n",
       "      <td>0</td>\n",
       "    </tr>\n",
       "    <tr>\n",
       "      <th>8</th>\n",
       "      <td>3430</td>\n",
       "      <td>2124-05-13 07:15:00</td>\n",
       "      <td>2124-05-17 07:15:00</td>\n",
       "      <td>2124-05-23 12:45:00</td>\n",
       "      <td>2124-04-13 07:15:00</td>\n",
       "      <td>{'is_admission': 0, 'is_discharge': 0, 'is_dea...</td>\n",
       "      <td>{'is_admission': 0, 'is_discharge': 1, 'is_dea...</td>\n",
       "      <td>{'is_admission': 4, 'is_discharge': 3, 'is_dea...</td>\n",
       "      <td>0</td>\n",
       "    </tr>\n",
       "    <tr>\n",
       "      <th>9</th>\n",
       "      <td>5760</td>\n",
       "      <td>2147-12-19 00:14:00</td>\n",
       "      <td>2147-12-23 00:14:00</td>\n",
       "      <td>2147-12-25 02:56:00</td>\n",
       "      <td>2147-11-19 00:14:00</td>\n",
       "      <td>{'is_admission': 0, 'is_discharge': 0, 'is_dea...</td>\n",
       "      <td>{'is_admission': 0, 'is_discharge': 1, 'is_dea...</td>\n",
       "      <td>{'is_admission': 2, 'is_discharge': 1, 'is_dea...</td>\n",
       "      <td>1</td>\n",
       "    </tr>\n",
       "  </tbody>\n",
       "</table>\n",
       "</div>"
      ],
      "text/plain": [
       "   subject_id   trigger/timestamp       gap/timestamp    target/timestamp  \\\n",
       "0        4933 2141-10-20 15:56:00 2141-10-24 15:56:00 2141-11-04 16:40:00   \n",
       "1        8324 2140-11-13 14:31:00 2140-11-17 14:31:00 2140-11-21 17:03:00   \n",
       "2       11955 2200-07-27 20:33:00 2200-07-31 20:33:00 2200-08-09 14:59:00   \n",
       "3        3912 2147-09-22 18:32:00 2147-09-26 18:32:00 2147-10-04 15:39:00   \n",
       "4        6290 2183-07-09 08:15:00 2183-07-13 08:15:00 2183-07-13 18:11:00   \n",
       "5       10153 2165-03-14 23:59:00 2165-03-18 23:59:00 2165-03-19 14:22:00   \n",
       "6        5663 2150-01-15 13:55:00 2150-01-19 13:55:00 2150-02-13 12:27:00   \n",
       "7        6958 2162-07-17 14:31:00 2162-07-21 14:31:00 2162-07-22 13:30:00   \n",
       "8        3430 2124-05-13 07:15:00 2124-05-17 07:15:00 2124-05-23 12:45:00   \n",
       "9        5760 2147-12-19 00:14:00 2147-12-23 00:14:00 2147-12-25 02:56:00   \n",
       "\n",
       "      input/timestamp                                 gap/window_summary  \\\n",
       "0 2141-09-20 15:56:00  {'is_admission': 0, 'is_discharge': 0, 'is_dea...   \n",
       "1 2140-10-14 14:31:00  {'is_admission': 0, 'is_discharge': 0, 'is_dea...   \n",
       "2 2200-06-27 20:33:00  {'is_admission': 0, 'is_discharge': 0, 'is_dea...   \n",
       "3 2147-08-23 18:32:00  {'is_admission': 0, 'is_discharge': 0, 'is_dea...   \n",
       "4 2183-06-09 08:15:00  {'is_admission': 0, 'is_discharge': 0, 'is_dea...   \n",
       "5 2165-02-12 23:59:00  {'is_admission': 0, 'is_discharge': 0, 'is_dea...   \n",
       "6 2149-12-16 13:55:00  {'is_admission': 0, 'is_discharge': 0, 'is_dea...   \n",
       "7 2162-06-17 14:31:00  {'is_admission': 0, 'is_discharge': 0, 'is_dea...   \n",
       "8 2124-04-13 07:15:00  {'is_admission': 0, 'is_discharge': 0, 'is_dea...   \n",
       "9 2147-11-19 00:14:00  {'is_admission': 0, 'is_discharge': 0, 'is_dea...   \n",
       "\n",
       "                               target/window_summary  \\\n",
       "0  {'is_admission': 0, 'is_discharge': 1, 'is_dea...   \n",
       "1  {'is_admission': 0, 'is_discharge': 1, 'is_dea...   \n",
       "2  {'is_admission': 0, 'is_discharge': 1, 'is_dea...   \n",
       "3  {'is_admission': 0, 'is_discharge': 1, 'is_dea...   \n",
       "4  {'is_admission': 0, 'is_discharge': 1, 'is_dea...   \n",
       "5  {'is_admission': 0, 'is_discharge': 1, 'is_dea...   \n",
       "6  {'is_admission': 0, 'is_discharge': 1, 'is_dea...   \n",
       "7  {'is_admission': 0, 'is_discharge': 1, 'is_dea...   \n",
       "8  {'is_admission': 0, 'is_discharge': 1, 'is_dea...   \n",
       "9  {'is_admission': 0, 'is_discharge': 1, 'is_dea...   \n",
       "\n",
       "                                input/window_summary  label  \n",
       "0  {'is_admission': 2, 'is_discharge': 2, 'is_dea...      0  \n",
       "1  {'is_admission': 2, 'is_discharge': 1, 'is_dea...      0  \n",
       "2  {'is_admission': 2, 'is_discharge': 1, 'is_dea...      0  \n",
       "3  {'is_admission': 2, 'is_discharge': 1, 'is_dea...      0  \n",
       "4  {'is_admission': 3, 'is_discharge': 3, 'is_dea...      0  \n",
       "5  {'is_admission': 2, 'is_discharge': 1, 'is_dea...      0  \n",
       "6  {'is_admission': 1, 'is_discharge': 1, 'is_dea...      0  \n",
       "7  {'is_admission': 3, 'is_discharge': 2, 'is_dea...      0  \n",
       "8  {'is_admission': 4, 'is_discharge': 3, 'is_dea...      0  \n",
       "9  {'is_admission': 2, 'is_discharge': 1, 'is_dea...      1  "
      ]
     },
     "execution_count": 7,
     "metadata": {},
     "output_type": "execute_result"
    }
   ],
   "source": [
    "validation"
   ]
  },
  {
   "cell_type": "markdown",
   "metadata": {},
   "source": [
    "Statistics:\n",
    "- http://varianceexplained.org/statistics/beta_distribution_and_baseball/\n",
    "- https://www.getguesstimate.com/scratchpad"
   ]
  },
  {
   "cell_type": "markdown",
   "metadata": {},
   "source": [
    "TODO:\n",
    "\n",
    "-/ computational profile\n",
    "\n",
    "-/ prompt provide predicates\n",
    "\n",
    "-/ local data schema: https://eventstreamml.readthedocs.io/en/dev/_collections/local_tutorial_notebook.html\n",
    "\n",
    "- check if the filtered out cohort is right / check if final cohort is right"
   ]
  },
  {
   "cell_type": "code",
   "execution_count": 8,
   "metadata": {},
   "outputs": [
    {
     "name": "stdout",
     "output_type": "stream",
     "text": [
      "2141-09-20 15:56:00 2141-10-20 15:56:00\n",
      "{'is_admission': 2, 'is_discharge': 2, 'is_death': 0, 'is_discharge_or_death': 2, 'is_any': 103}\n"
     ]
    },
    {
     "data": {
      "text/html": [
       "<div><style>\n",
       ".dataframe > thead > tr,\n",
       ".dataframe > tbody > tr {\n",
       "  text-align: right;\n",
       "  white-space: pre-wrap;\n",
       "}\n",
       "</style>\n",
       "<small>shape: (1, 7)</small><table border=\"1\" class=\"dataframe\"><thead><tr><th>subject_id</th><th>timestamp</th><th>is_admission</th><th>is_discharge</th><th>is_death</th><th>is_discharge_or_death</th><th>is_any</th></tr><tr><td>i64</td><td>datetime[μs]</td><td>i32</td><td>i32</td><td>i32</td><td>i32</td><td>i32</td></tr></thead><tbody><tr><td>508099</td><td>null</td><td>2</td><td>2</td><td>0</td><td>2</td><td>103</td></tr></tbody></table></div>"
      ],
      "text/plain": [
       "shape: (1, 7)\n",
       "┌────────────┬──────────────┬──────────────┬──────────────┬──────────┬────────────────────┬────────┐\n",
       "│ subject_id ┆ timestamp    ┆ is_admission ┆ is_discharge ┆ is_death ┆ is_discharge_or_de ┆ is_any │\n",
       "│ ---        ┆ ---          ┆ ---          ┆ ---          ┆ ---      ┆ ath                ┆ ---    │\n",
       "│ i64        ┆ datetime[μs] ┆ i32          ┆ i32          ┆ i32      ┆ ---                ┆ i32    │\n",
       "│            ┆              ┆              ┆              ┆          ┆ i32                ┆        │\n",
       "╞════════════╪══════════════╪══════════════╪══════════════╪══════════╪════════════════════╪════════╡\n",
       "│ 508099     ┆ null         ┆ 2            ┆ 2            ┆ 0        ┆ 2                  ┆ 103    │\n",
       "└────────────┴──────────────┴──────────────┴──────────────┴──────────┴────────────────────┴────────┘"
      ]
     },
     "metadata": {},
     "output_type": "display_data"
    },
    {
     "name": "stdout",
     "output_type": "stream",
     "text": [
      "2141-10-20 15:56:00 2141-10-24 15:56:00\n",
      "{'is_admission': 0, 'is_discharge': 0, 'is_death': 0, 'is_discharge_or_death': 0, 'is_any': 0}\n"
     ]
    },
    {
     "data": {
      "text/html": [
       "<div><style>\n",
       ".dataframe > thead > tr,\n",
       ".dataframe > tbody > tr {\n",
       "  text-align: right;\n",
       "  white-space: pre-wrap;\n",
       "}\n",
       "</style>\n",
       "<small>shape: (1, 7)</small><table border=\"1\" class=\"dataframe\"><thead><tr><th>subject_id</th><th>timestamp</th><th>is_admission</th><th>is_discharge</th><th>is_death</th><th>is_discharge_or_death</th><th>is_any</th></tr><tr><td>i64</td><td>datetime[μs]</td><td>i32</td><td>i32</td><td>i32</td><td>i32</td><td>i32</td></tr></thead><tbody><tr><td>0</td><td>null</td><td>0</td><td>0</td><td>0</td><td>0</td><td>0</td></tr></tbody></table></div>"
      ],
      "text/plain": [
       "shape: (1, 7)\n",
       "┌────────────┬──────────────┬──────────────┬──────────────┬──────────┬────────────────────┬────────┐\n",
       "│ subject_id ┆ timestamp    ┆ is_admission ┆ is_discharge ┆ is_death ┆ is_discharge_or_de ┆ is_any │\n",
       "│ ---        ┆ ---          ┆ ---          ┆ ---          ┆ ---      ┆ ath                ┆ ---    │\n",
       "│ i64        ┆ datetime[μs] ┆ i32          ┆ i32          ┆ i32      ┆ ---                ┆ i32    │\n",
       "│            ┆              ┆              ┆              ┆          ┆ i32                ┆        │\n",
       "╞════════════╪══════════════╪══════════════╪══════════════╪══════════╪════════════════════╪════════╡\n",
       "│ 0          ┆ null         ┆ 0            ┆ 0            ┆ 0        ┆ 0                  ┆ 0      │\n",
       "└────────────┴──────────────┴──────────────┴──────────────┴──────────┴────────────────────┴────────┘"
      ]
     },
     "metadata": {},
     "output_type": "display_data"
    },
    {
     "name": "stdout",
     "output_type": "stream",
     "text": [
      "2141-10-24 15:56:00 2141-11-04 16:40:00\n",
      "{'is_admission': 0, 'is_discharge': 1, 'is_death': 0, 'is_discharge_or_death': 1, 'is_any': 1}\n"
     ]
    },
    {
     "data": {
      "text/html": [
       "<div><style>\n",
       ".dataframe > thead > tr,\n",
       ".dataframe > tbody > tr {\n",
       "  text-align: right;\n",
       "  white-space: pre-wrap;\n",
       "}\n",
       "</style>\n",
       "<small>shape: (1, 7)</small><table border=\"1\" class=\"dataframe\"><thead><tr><th>subject_id</th><th>timestamp</th><th>is_admission</th><th>is_discharge</th><th>is_death</th><th>is_discharge_or_death</th><th>is_any</th></tr><tr><td>i64</td><td>datetime[μs]</td><td>i32</td><td>i32</td><td>i32</td><td>i32</td><td>i32</td></tr></thead><tbody><tr><td>4933</td><td>null</td><td>0</td><td>1</td><td>0</td><td>1</td><td>1</td></tr></tbody></table></div>"
      ],
      "text/plain": [
       "shape: (1, 7)\n",
       "┌────────────┬──────────────┬──────────────┬──────────────┬──────────┬────────────────────┬────────┐\n",
       "│ subject_id ┆ timestamp    ┆ is_admission ┆ is_discharge ┆ is_death ┆ is_discharge_or_de ┆ is_any │\n",
       "│ ---        ┆ ---          ┆ ---          ┆ ---          ┆ ---      ┆ ath                ┆ ---    │\n",
       "│ i64        ┆ datetime[μs] ┆ i32          ┆ i32          ┆ i32      ┆ ---                ┆ i32    │\n",
       "│            ┆              ┆              ┆              ┆          ┆ i32                ┆        │\n",
       "╞════════════╪══════════════╪══════════════╪══════════════╪══════════╪════════════════════╪════════╡\n",
       "│ 4933       ┆ null         ┆ 0            ┆ 1            ┆ 0        ┆ 1                  ┆ 1      │\n",
       "└────────────┴──────────────┴──────────────┴──────────────┴──────────┴────────────────────┴────────┘"
      ]
     },
     "metadata": {},
     "output_type": "display_data"
    }
   ],
   "source": [
    "for i, row in validation.iterrows():\n",
    "    #filter ESD_data for the subject_id\n",
    "    subject_id = row['subject_id']\n",
    "    filtered_data = ESD_data.filter(pl.col(\"subject_id\") == subject_id)\n",
    "\n",
    "    #sort the values of every column that has 'timestamp' in its name\n",
    "    timestamps = []\n",
    "    for col in validation.columns:\n",
    "        if 'timestamp' in col:\n",
    "            timestamps.append((row[col], col))\n",
    "    timestamps.sort(key=lambda x: x[0])\n",
    "\n",
    "    filtered_data = filtered_data.filter(pl.col(\"timestamp\") >= timestamps[0][0])\n",
    "    filtered_data = filtered_data.filter(pl.col(\"timestamp\") <= timestamps[-1][0])\n",
    "\n",
    "    trigger_event = f'is_{cfg.windows.trigger.start}'\n",
    "    assert filtered_data.filter(pl.col(\"timestamp\") == row['trigger/timestamp']).select(trigger_event).to_pandas().values.flatten()[0] == 1\n",
    "    \n",
    "    after_trigger = False\n",
    "    for i in range(len(timestamps)-1):\n",
    "        window = timestamps[i]\n",
    "        name = window[1].split('/')[0]\n",
    "        if name == 'trigger':\n",
    "            after_trigger = True\n",
    "        if after_trigger:\n",
    "            name = timestamps[i+1][1].split('/')[0]\n",
    "\n",
    "\n",
    "        print(timestamps[i][0], timestamps[i+1][0])\n",
    "        print(row[f'{name}/window_summary'])\n",
    "        window_data = filtered_data.filter(pl.col(\"timestamp\") > timestamps[i][0])\n",
    "        window_data = window_data.filter(pl.col(\"timestamp\") <= timestamps[i+1][0])\n",
    "        \n",
    "        sum_counts = window_data.sum()\n",
    "        display(sum_counts)\n",
    "\n",
    "        for predicate in row[f'{name}/window_summary']:\n",
    "            assert sum_counts.select(predicate).to_pandas().values.flatten()[0] == row[f'{name}/window_summary'][predicate]\n",
    "    break"
   ]
  },
  {
   "cell_type": "code",
   "execution_count": 9,
   "metadata": {},
   "outputs": [
    {
     "data": {
      "text/html": [
       "<div><style>\n",
       ".dataframe > thead > tr,\n",
       ".dataframe > tbody > tr {\n",
       "  text-align: right;\n",
       "  white-space: pre-wrap;\n",
       "}\n",
       "</style>\n",
       "<small>shape: (7, 7)</small><table border=\"1\" class=\"dataframe\"><thead><tr><th>subject_id</th><th>timestamp</th><th>is_admission</th><th>is_discharge</th><th>is_death</th><th>is_discharge_or_death</th><th>is_any</th></tr><tr><td>u16</td><td>datetime[μs]</td><td>i32</td><td>i32</td><td>i32</td><td>i32</td><td>i32</td></tr></thead><tbody><tr><td>7374</td><td>2164-06-09 10:56:00</td><td>1</td><td>0</td><td>0</td><td>0</td><td>1</td></tr><tr><td>7374</td><td>2164-07-10 20:42:00</td><td>1</td><td>0</td><td>0</td><td>0</td><td>1</td></tr><tr><td>7374</td><td>2164-07-30 15:21:00</td><td>1</td><td>0</td><td>0</td><td>0</td><td>1</td></tr><tr><td>7374</td><td>2164-08-20 15:54:00</td><td>1</td><td>0</td><td>0</td><td>0</td><td>1</td></tr><tr><td>7374</td><td>2164-08-27 03:47:00</td><td>1</td><td>0</td><td>0</td><td>0</td><td>1</td></tr><tr><td>7374</td><td>2164-10-05 17:12:00</td><td>1</td><td>0</td><td>0</td><td>0</td><td>1</td></tr><tr><td>7374</td><td>2164-10-13 21:00:00</td><td>1</td><td>0</td><td>0</td><td>0</td><td>1</td></tr></tbody></table></div>"
      ],
      "text/plain": [
       "shape: (7, 7)\n",
       "┌────────────┬──────────────┬──────────────┬──────────────┬──────────┬────────────────────┬────────┐\n",
       "│ subject_id ┆ timestamp    ┆ is_admission ┆ is_discharge ┆ is_death ┆ is_discharge_or_de ┆ is_any │\n",
       "│ ---        ┆ ---          ┆ ---          ┆ ---          ┆ ---      ┆ ath                ┆ ---    │\n",
       "│ u16        ┆ datetime[μs] ┆ i32          ┆ i32          ┆ i32      ┆ ---                ┆ i32    │\n",
       "│            ┆              ┆              ┆              ┆          ┆ i32                ┆        │\n",
       "╞════════════╪══════════════╪══════════════╪══════════════╪══════════╪════════════════════╪════════╡\n",
       "│ 7374       ┆ 2164-06-09   ┆ 1            ┆ 0            ┆ 0        ┆ 0                  ┆ 1      │\n",
       "│            ┆ 10:56:00     ┆              ┆              ┆          ┆                    ┆        │\n",
       "│ 7374       ┆ 2164-07-10   ┆ 1            ┆ 0            ┆ 0        ┆ 0                  ┆ 1      │\n",
       "│            ┆ 20:42:00     ┆              ┆              ┆          ┆                    ┆        │\n",
       "│ 7374       ┆ 2164-07-30   ┆ 1            ┆ 0            ┆ 0        ┆ 0                  ┆ 1      │\n",
       "│            ┆ 15:21:00     ┆              ┆              ┆          ┆                    ┆        │\n",
       "│ 7374       ┆ 2164-08-20   ┆ 1            ┆ 0            ┆ 0        ┆ 0                  ┆ 1      │\n",
       "│            ┆ 15:54:00     ┆              ┆              ┆          ┆                    ┆        │\n",
       "│ 7374       ┆ 2164-08-27   ┆ 1            ┆ 0            ┆ 0        ┆ 0                  ┆ 1      │\n",
       "│            ┆ 03:47:00     ┆              ┆              ┆          ┆                    ┆        │\n",
       "│ 7374       ┆ 2164-10-05   ┆ 1            ┆ 0            ┆ 0        ┆ 0                  ┆ 1      │\n",
       "│            ┆ 17:12:00     ┆              ┆              ┆          ┆                    ┆        │\n",
       "│ 7374       ┆ 2164-10-13   ┆ 1            ┆ 0            ┆ 0        ┆ 0                  ┆ 1      │\n",
       "│            ┆ 21:00:00     ┆              ┆              ┆          ┆                    ┆        │\n",
       "└────────────┴──────────────┴──────────────┴──────────────┴──────────┴────────────────────┴────────┘"
      ]
     },
     "execution_count": 9,
     "metadata": {},
     "output_type": "execute_result"
    }
   ],
   "source": [
    "ESD_data.filter((pl.col(\"subject_id\") == 7374) & (pl.col('is_admission') == 1))"
   ]
  }
 ],
 "metadata": {
  "kernelspec": {
   "display_name": "esgpt",
   "language": "python",
   "name": "python3"
  },
  "language_info": {
   "codemirror_mode": {
    "name": "ipython",
    "version": 3
   },
   "file_extension": ".py",
   "mimetype": "text/x-python",
   "name": "python",
   "nbconvert_exporter": "python",
   "pygments_lexer": "ipython3",
   "version": "3.10.13"
  }
 },
 "nbformat": 4,
 "nbformat_minor": 2
}
