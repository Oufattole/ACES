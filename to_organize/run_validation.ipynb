{
 "cells": [
  {
   "cell_type": "code",
   "execution_count": 1,
   "metadata": {},
   "outputs": [
    {
     "name": "stderr",
     "output_type": "stream",
     "text": [
      "/home/justinxu/miniconda3/envs/esgpt/lib/python3.10/site-packages/tqdm/auto.py:21: TqdmWarning: IProgress not found. Please update jupyter and ipywidgets. See https://ipywidgets.readthedocs.io/en/stable/user_install.html\n",
      "  from .autonotebook import tqdm as notebook_tqdm\n"
     ]
    },
    {
     "data": {
      "text/plain": [
       "'/home/justinxu/esgpt/ESGPTTaskQuerying/to_organize'"
      ]
     },
     "execution_count": 1,
     "metadata": {},
     "output_type": "execute_result"
    }
   ],
   "source": [
    "import os\n",
    "os.environ['POLARS_MAX_THREADS'] = '8'\n",
    "import pandas as pd\n",
    "import polars as pl\n",
    "from pathlib import Path\n",
    "\n",
    "from esgpt_task_querying import main\n",
    "from EventStream.data.dataset_polars import Dataset\n",
    "\n",
    "%load_ext autoreload\n",
    "%autoreload 2\n",
    "\n",
    "pd.set_option('display.max_rows', 100)\n",
    "pl.Config.set_tbl_cols(100)\n",
    "pl.Config.set_tbl_rows(100)\n",
    "\n",
    "data_path = '../MIMIC_ESD_new_schema_08-31-23-1'\n",
    "os.getcwd()"
   ]
  },
  {
   "cell_type": "code",
   "execution_count": 2,
   "metadata": {},
   "outputs": [
    {
     "name": "stdout",
     "output_type": "stream",
     "text": [
      "Updating config.save_dir from /n/data1/hms/dbmi/zaklab/RAMMS/data/MIMIC_IV/ESD_new_schema_08-31-23-1 to ../MIMIC_ESD_new_schema_08-31-23-1\n",
      "Loading events from ../MIMIC_ESD_new_schema_08-31-23-1/events_df.parquet...\n",
      "Loading dynamic_measurements from ../MIMIC_ESD_new_schema_08-31-23-1/dynamic_measurements_df.parquet...\n"
     ]
    }
   ],
   "source": [
    "DATA_DIR = Path(data_path)\n",
    "ESD = Dataset.load(DATA_DIR)\n",
    "\n",
    "events_df = ESD.events_df.filter(~pl.all_horizontal(pl.all().is_null()))\n",
    "dynamic_measurements_df = ESD.dynamic_measurements_df.filter(\n",
    "    ~pl.all_horizontal(pl.all().is_null())\n",
    ")\n",
    "\n",
    "ESD_data = (\n",
    "    events_df.join(dynamic_measurements_df, on=\"event_id\", how=\"left\")\n",
    "    .drop([\"event_id\"])\n",
    "    .sort(by=[\"subject_id\", \"timestamp\", \"event_type\"])\n",
    ")\n",
    "\n",
    "if ESD_data[\"timestamp\"].dtype != pl.Datetime:\n",
    "    ESD_data = ESD_data.with_columns(\n",
    "        pl.col(\"timestamp\")\n",
    "        .str.strptime(pl.Datetime, format=\"%m/%d/%Y %H:%M\")\n",
    "        .cast(pl.Datetime)\n",
    "    )"
   ]
  },
  {
   "cell_type": "code",
   "execution_count": 3,
   "metadata": {},
   "outputs": [],
   "source": [
    "def has_event_type(type_str: str) -> pl.Expr:\n",
    "    has_event_type = pl.col(\"event_type\").cast(pl.Utf8).str.contains(type_str)\n",
    "    # has_event_type = event_types.str.contains(type_str)\n",
    "    return has_event_type"
   ]
  },
  {
   "cell_type": "code",
   "execution_count": 6,
   "metadata": {},
   "outputs": [],
   "source": [
    "def validate_query(config_path, data_path, ESD_data, samples=10, verbose=False, seed=42):\n",
    "    cfg = main.load_config(config_path)\n",
    "    df_data = main.generate_predicate_columns(cfg, ESD_data, verbose=verbose)\n",
    "\n",
    "    df_result = main.query_task(config_path, ESD_data, verbose=verbose)\n",
    "\n",
    "    if df_result.shape[0] == 0:\n",
    "        print(\"No results found.\")\n",
    "        return\n",
    "\n",
    "    try:\n",
    "        validation = df_result.sample(samples, seed=seed)\n",
    "        validation = validation.to_pandas()\n",
    "    except:\n",
    "        validation = df_result.to_pandas()\n",
    "\n",
    "    # validation = df_result.filter(df_result['subject_id'] == 1916).to_pandas()\n",
    "\n",
    "    for i, row in validation.iterrows():\n",
    "        if i % 100 == 0:\n",
    "            print(f\"Validating row: {i}/{len(validation)}...\")\n",
    "        #filter ESD_data for the subject_id\n",
    "        subject_id = row['subject_id']\n",
    "        filtered_data = df_data.filter(pl.col(\"subject_id\") == subject_id)\n",
    "\n",
    "        if verbose:\n",
    "            print('Checking subject_id:', subject_id)\n",
    "\n",
    "        #sort the values of every column that has 'timestamp' in its name\n",
    "        timestamps = []\n",
    "        for col in validation.columns:\n",
    "            if 'timestamp' in col:\n",
    "                timestamps.append((row[col], col))\n",
    "        timestamps.sort(key=lambda x: x[0])\n",
    "\n",
    "        filtered_data = filtered_data.filter(pl.col(\"timestamp\") >= timestamps[0][0])\n",
    "        filtered_data = filtered_data.filter(pl.col(\"timestamp\") <= timestamps[-1][0])\n",
    "\n",
    "        trigger_event = f'is_{cfg.windows.trigger.start}'\n",
    "        assert filtered_data.filter(pl.col(\"timestamp\") == row['trigger/timestamp']).select(trigger_event).to_pandas().values.flatten()[0] == 1\n",
    "        \n",
    "        after_trigger = False\n",
    "        for i in range(len(timestamps)-1):\n",
    "            window = timestamps[i]\n",
    "            name = window[1].split('/')[0]\n",
    "            if verbose:\n",
    "                print(f\"Checking window: {name}->{timestamps[i+1][1].split('/')[0]}\")\n",
    "            if name == 'trigger':\n",
    "                after_trigger = True\n",
    "            if after_trigger:\n",
    "                name = timestamps[i+1][1].split('/')[0]\n",
    "\n",
    "            if verbose:\n",
    "                print(timestamps[i][0], timestamps[i+1][0])\n",
    "                print(row[f'{name}/window_summary'])\n",
    "            window_data = filtered_data.filter(pl.col(\"timestamp\") > timestamps[i][0])\n",
    "            window_data = window_data.filter(pl.col(\"timestamp\") <= timestamps[i+1][0])\n",
    "\n",
    "            sum_counts = window_data.sum()\n",
    "            if verbose:\n",
    "                display(sum_counts)\n",
    "\n",
    "            for predicate in row[f'{name}/window_summary']:\n",
    "                count = row[f'{name}/window_summary'][predicate]\n",
    "                if not count:\n",
    "                    count = 0\n",
    "                assert sum_counts.select(predicate).to_pandas().values.flatten()[0] == count, (subject_id, timestamps[i][0], timestamps[i+1][0], row[f'{name}/window_summary'], sum_counts)"
   ]
  },
  {
   "cell_type": "code",
   "execution_count": 8,
   "metadata": {},
   "outputs": [
    {
     "name": "stdout",
     "output_type": "stream",
     "text": [
      "Added predicate column is_admission.\n",
      "Added predicate column is_discharge.\n",
      "Loading config...\n",
      "\n",
      "Generating predicate columns...\n",
      "\n",
      "Added predicate column is_admission.\n",
      "Added predicate column is_discharge.\n",
      "\n",
      "Building tree...\n",
      "trigger\n",
      "┗━━ input\n",
      "    ┗━━ target\n",
      "\n",
      "\n",
      "12127 subjects (14623763 rows) were excluded due to trigger event: admission.\n",
      "\n",
      "\n",
      "Querying...\n",
      "\n",
      "\n",
      "Querying subtree rooted at input...\n",
      "88 subjects (119 rows) were excluded due to constraint: [(col(\"is_discharge\")) >= (1)].\n",
      "12 subjects (12 rows) were excluded due to constraint: [(col(\"is_discharge\")) <= (1)].\n",
      "\n",
      "\n",
      "Querying subtree rooted at target...\n",
      "\n",
      "\n",
      "Done.\n",
      "\n",
      "Validating row: 0/10...\n",
      "Checking subject_id: 1989\n",
      "Checking window: trigger->input\n",
      "2114-05-19 12:32:00 2114-05-24 10:10:00\n",
      "{'is_admission': 0, 'is_discharge': 1, 'is_any': 64}\n"
     ]
    },
    {
     "data": {
      "text/html": [
       "<div><style>\n",
       ".dataframe > thead > tr,\n",
       ".dataframe > tbody > tr {\n",
       "  text-align: right;\n",
       "  white-space: pre-wrap;\n",
       "}\n",
       "</style>\n",
       "<small>shape: (1, 5)</small><table border=\"1\" class=\"dataframe\"><thead><tr><th>subject_id</th><th>timestamp</th><th>is_admission</th><th>is_discharge</th><th>is_any</th></tr><tr><td>i64</td><td>datetime[μs]</td><td>i32</td><td>i32</td><td>i32</td></tr></thead><tbody><tr><td>127296</td><td>null</td><td>0</td><td>1</td><td>64</td></tr></tbody></table></div>"
      ],
      "text/plain": [
       "shape: (1, 5)\n",
       "┌────────────┬──────────────┬──────────────┬──────────────┬────────┐\n",
       "│ subject_id ┆ timestamp    ┆ is_admission ┆ is_discharge ┆ is_any │\n",
       "│ ---        ┆ ---          ┆ ---          ┆ ---          ┆ ---    │\n",
       "│ i64        ┆ datetime[μs] ┆ i32          ┆ i32          ┆ i32    │\n",
       "╞════════════╪══════════════╪══════════════╪══════════════╪════════╡\n",
       "│ 127296     ┆ null         ┆ 0            ┆ 1            ┆ 64     │\n",
       "└────────────┴──────────────┴──────────────┴──────────────┴────────┘"
      ]
     },
     "metadata": {},
     "output_type": "display_data"
    },
    {
     "name": "stdout",
     "output_type": "stream",
     "text": [
      "Checking window: input->target\n",
      "2114-05-24 10:10:00 2114-06-23 10:10:00\n",
      "{'is_admission': None, 'is_discharge': None, 'is_any': None}\n"
     ]
    },
    {
     "data": {
      "text/html": [
       "<div><style>\n",
       ".dataframe > thead > tr,\n",
       ".dataframe > tbody > tr {\n",
       "  text-align: right;\n",
       "  white-space: pre-wrap;\n",
       "}\n",
       "</style>\n",
       "<small>shape: (1, 5)</small><table border=\"1\" class=\"dataframe\"><thead><tr><th>subject_id</th><th>timestamp</th><th>is_admission</th><th>is_discharge</th><th>is_any</th></tr><tr><td>i64</td><td>datetime[μs]</td><td>i32</td><td>i32</td><td>i32</td></tr></thead><tbody><tr><td>0</td><td>null</td><td>0</td><td>0</td><td>0</td></tr></tbody></table></div>"
      ],
      "text/plain": [
       "shape: (1, 5)\n",
       "┌────────────┬──────────────┬──────────────┬──────────────┬────────┐\n",
       "│ subject_id ┆ timestamp    ┆ is_admission ┆ is_discharge ┆ is_any │\n",
       "│ ---        ┆ ---          ┆ ---          ┆ ---          ┆ ---    │\n",
       "│ i64        ┆ datetime[μs] ┆ i32          ┆ i32          ┆ i32    │\n",
       "╞════════════╪══════════════╪══════════════╪══════════════╪════════╡\n",
       "│ 0          ┆ null         ┆ 0            ┆ 0            ┆ 0      │\n",
       "└────────────┴──────────────┴──────────────┴──────────────┴────────┘"
      ]
     },
     "metadata": {},
     "output_type": "display_data"
    },
    {
     "name": "stdout",
     "output_type": "stream",
     "text": [
      "Checking subject_id: 3738\n",
      "Checking window: trigger->input\n",
      "2174-09-06 07:41:00 2174-09-08 16:00:00\n",
      "{'is_admission': 0, 'is_discharge': 1, 'is_any': 1}\n"
     ]
    },
    {
     "data": {
      "text/html": [
       "<div><style>\n",
       ".dataframe > thead > tr,\n",
       ".dataframe > tbody > tr {\n",
       "  text-align: right;\n",
       "  white-space: pre-wrap;\n",
       "}\n",
       "</style>\n",
       "<small>shape: (1, 5)</small><table border=\"1\" class=\"dataframe\"><thead><tr><th>subject_id</th><th>timestamp</th><th>is_admission</th><th>is_discharge</th><th>is_any</th></tr><tr><td>i64</td><td>datetime[μs]</td><td>i32</td><td>i32</td><td>i32</td></tr></thead><tbody><tr><td>3738</td><td>null</td><td>0</td><td>1</td><td>1</td></tr></tbody></table></div>"
      ],
      "text/plain": [
       "shape: (1, 5)\n",
       "┌────────────┬──────────────┬──────────────┬──────────────┬────────┐\n",
       "│ subject_id ┆ timestamp    ┆ is_admission ┆ is_discharge ┆ is_any │\n",
       "│ ---        ┆ ---          ┆ ---          ┆ ---          ┆ ---    │\n",
       "│ i64        ┆ datetime[μs] ┆ i32          ┆ i32          ┆ i32    │\n",
       "╞════════════╪══════════════╪══════════════╪══════════════╪════════╡\n",
       "│ 3738       ┆ null         ┆ 0            ┆ 1            ┆ 1      │\n",
       "└────────────┴──────────────┴──────────────┴──────────────┴────────┘"
      ]
     },
     "metadata": {},
     "output_type": "display_data"
    },
    {
     "name": "stdout",
     "output_type": "stream",
     "text": [
      "Checking window: input->target\n",
      "2174-09-08 16:00:00 2174-10-08 16:00:00\n",
      "{'is_admission': None, 'is_discharge': None, 'is_any': None}\n"
     ]
    },
    {
     "data": {
      "text/html": [
       "<div><style>\n",
       ".dataframe > thead > tr,\n",
       ".dataframe > tbody > tr {\n",
       "  text-align: right;\n",
       "  white-space: pre-wrap;\n",
       "}\n",
       "</style>\n",
       "<small>shape: (1, 5)</small><table border=\"1\" class=\"dataframe\"><thead><tr><th>subject_id</th><th>timestamp</th><th>is_admission</th><th>is_discharge</th><th>is_any</th></tr><tr><td>i64</td><td>datetime[μs]</td><td>i32</td><td>i32</td><td>i32</td></tr></thead><tbody><tr><td>0</td><td>null</td><td>0</td><td>0</td><td>0</td></tr></tbody></table></div>"
      ],
      "text/plain": [
       "shape: (1, 5)\n",
       "┌────────────┬──────────────┬──────────────┬──────────────┬────────┐\n",
       "│ subject_id ┆ timestamp    ┆ is_admission ┆ is_discharge ┆ is_any │\n",
       "│ ---        ┆ ---          ┆ ---          ┆ ---          ┆ ---    │\n",
       "│ i64        ┆ datetime[μs] ┆ i32          ┆ i32          ┆ i32    │\n",
       "╞════════════╪══════════════╪══════════════╪══════════════╪════════╡\n",
       "│ 0          ┆ null         ┆ 0            ┆ 0            ┆ 0      │\n",
       "└────────────┴──────────────┴──────────────┴──────────────┴────────┘"
      ]
     },
     "metadata": {},
     "output_type": "display_data"
    },
    {
     "name": "stdout",
     "output_type": "stream",
     "text": [
      "Checking subject_id: 3620\n",
      "Checking window: trigger->input\n",
      "2171-01-30 04:22:00 2171-02-06 18:18:00\n",
      "{'is_admission': 0, 'is_discharge': 1, 'is_any': 1}\n"
     ]
    },
    {
     "data": {
      "text/html": [
       "<div><style>\n",
       ".dataframe > thead > tr,\n",
       ".dataframe > tbody > tr {\n",
       "  text-align: right;\n",
       "  white-space: pre-wrap;\n",
       "}\n",
       "</style>\n",
       "<small>shape: (1, 5)</small><table border=\"1\" class=\"dataframe\"><thead><tr><th>subject_id</th><th>timestamp</th><th>is_admission</th><th>is_discharge</th><th>is_any</th></tr><tr><td>i64</td><td>datetime[μs]</td><td>i32</td><td>i32</td><td>i32</td></tr></thead><tbody><tr><td>3620</td><td>null</td><td>0</td><td>1</td><td>1</td></tr></tbody></table></div>"
      ],
      "text/plain": [
       "shape: (1, 5)\n",
       "┌────────────┬──────────────┬──────────────┬──────────────┬────────┐\n",
       "│ subject_id ┆ timestamp    ┆ is_admission ┆ is_discharge ┆ is_any │\n",
       "│ ---        ┆ ---          ┆ ---          ┆ ---          ┆ ---    │\n",
       "│ i64        ┆ datetime[μs] ┆ i32          ┆ i32          ┆ i32    │\n",
       "╞════════════╪══════════════╪══════════════╪══════════════╪════════╡\n",
       "│ 3620       ┆ null         ┆ 0            ┆ 1            ┆ 1      │\n",
       "└────────────┴──────────────┴──────────────┴──────────────┴────────┘"
      ]
     },
     "metadata": {},
     "output_type": "display_data"
    },
    {
     "name": "stdout",
     "output_type": "stream",
     "text": [
      "Checking window: input->target\n",
      "2171-02-06 18:18:00 2171-03-08 18:18:00\n",
      "{'is_admission': 2.0, 'is_discharge': 2.0, 'is_any': 4.0}\n"
     ]
    },
    {
     "data": {
      "text/html": [
       "<div><style>\n",
       ".dataframe > thead > tr,\n",
       ".dataframe > tbody > tr {\n",
       "  text-align: right;\n",
       "  white-space: pre-wrap;\n",
       "}\n",
       "</style>\n",
       "<small>shape: (1, 5)</small><table border=\"1\" class=\"dataframe\"><thead><tr><th>subject_id</th><th>timestamp</th><th>is_admission</th><th>is_discharge</th><th>is_any</th></tr><tr><td>i64</td><td>datetime[μs]</td><td>i32</td><td>i32</td><td>i32</td></tr></thead><tbody><tr><td>14480</td><td>null</td><td>2</td><td>2</td><td>4</td></tr></tbody></table></div>"
      ],
      "text/plain": [
       "shape: (1, 5)\n",
       "┌────────────┬──────────────┬──────────────┬──────────────┬────────┐\n",
       "│ subject_id ┆ timestamp    ┆ is_admission ┆ is_discharge ┆ is_any │\n",
       "│ ---        ┆ ---          ┆ ---          ┆ ---          ┆ ---    │\n",
       "│ i64        ┆ datetime[μs] ┆ i32          ┆ i32          ┆ i32    │\n",
       "╞════════════╪══════════════╪══════════════╪══════════════╪════════╡\n",
       "│ 14480      ┆ null         ┆ 2            ┆ 2            ┆ 4      │\n",
       "└────────────┴──────────────┴──────────────┴──────────────┴────────┘"
      ]
     },
     "metadata": {},
     "output_type": "display_data"
    },
    {
     "name": "stdout",
     "output_type": "stream",
     "text": [
      "Checking subject_id: 8838\n",
      "Checking window: trigger->input\n",
      "2173-12-10 16:36:00 2173-12-23 15:30:00\n",
      "{'is_admission': 0, 'is_discharge': 1, 'is_any': 1}\n"
     ]
    },
    {
     "data": {
      "text/html": [
       "<div><style>\n",
       ".dataframe > thead > tr,\n",
       ".dataframe > tbody > tr {\n",
       "  text-align: right;\n",
       "  white-space: pre-wrap;\n",
       "}\n",
       "</style>\n",
       "<small>shape: (1, 5)</small><table border=\"1\" class=\"dataframe\"><thead><tr><th>subject_id</th><th>timestamp</th><th>is_admission</th><th>is_discharge</th><th>is_any</th></tr><tr><td>i64</td><td>datetime[μs]</td><td>i32</td><td>i32</td><td>i32</td></tr></thead><tbody><tr><td>8838</td><td>null</td><td>0</td><td>1</td><td>1</td></tr></tbody></table></div>"
      ],
      "text/plain": [
       "shape: (1, 5)\n",
       "┌────────────┬──────────────┬──────────────┬──────────────┬────────┐\n",
       "│ subject_id ┆ timestamp    ┆ is_admission ┆ is_discharge ┆ is_any │\n",
       "│ ---        ┆ ---          ┆ ---          ┆ ---          ┆ ---    │\n",
       "│ i64        ┆ datetime[μs] ┆ i32          ┆ i32          ┆ i32    │\n",
       "╞════════════╪══════════════╪══════════════╪══════════════╪════════╡\n",
       "│ 8838       ┆ null         ┆ 0            ┆ 1            ┆ 1      │\n",
       "└────────────┴──────────────┴──────────────┴──────────────┴────────┘"
      ]
     },
     "metadata": {},
     "output_type": "display_data"
    },
    {
     "name": "stdout",
     "output_type": "stream",
     "text": [
      "Checking window: input->target\n",
      "2173-12-23 15:30:00 2174-01-22 15:30:00\n",
      "{'is_admission': 1.0, 'is_discharge': 0.0, 'is_any': 1.0}\n"
     ]
    },
    {
     "data": {
      "text/html": [
       "<div><style>\n",
       ".dataframe > thead > tr,\n",
       ".dataframe > tbody > tr {\n",
       "  text-align: right;\n",
       "  white-space: pre-wrap;\n",
       "}\n",
       "</style>\n",
       "<small>shape: (1, 5)</small><table border=\"1\" class=\"dataframe\"><thead><tr><th>subject_id</th><th>timestamp</th><th>is_admission</th><th>is_discharge</th><th>is_any</th></tr><tr><td>i64</td><td>datetime[μs]</td><td>i32</td><td>i32</td><td>i32</td></tr></thead><tbody><tr><td>8838</td><td>null</td><td>1</td><td>0</td><td>1</td></tr></tbody></table></div>"
      ],
      "text/plain": [
       "shape: (1, 5)\n",
       "┌────────────┬──────────────┬──────────────┬──────────────┬────────┐\n",
       "│ subject_id ┆ timestamp    ┆ is_admission ┆ is_discharge ┆ is_any │\n",
       "│ ---        ┆ ---          ┆ ---          ┆ ---          ┆ ---    │\n",
       "│ i64        ┆ datetime[μs] ┆ i32          ┆ i32          ┆ i32    │\n",
       "╞════════════╪══════════════╪══════════════╪══════════════╪════════╡\n",
       "│ 8838       ┆ null         ┆ 1            ┆ 0            ┆ 1      │\n",
       "└────────────┴──────────────┴──────────────┴──────────────┴────────┘"
      ]
     },
     "metadata": {},
     "output_type": "display_data"
    },
    {
     "name": "stdout",
     "output_type": "stream",
     "text": [
      "Checking subject_id: 6498\n",
      "Checking window: trigger->input\n",
      "2114-08-22 10:47:00 2114-09-10 18:16:00\n",
      "{'is_admission': 0, 'is_discharge': 1, 'is_any': 265}\n"
     ]
    },
    {
     "data": {
      "text/html": [
       "<div><style>\n",
       ".dataframe > thead > tr,\n",
       ".dataframe > tbody > tr {\n",
       "  text-align: right;\n",
       "  white-space: pre-wrap;\n",
       "}\n",
       "</style>\n",
       "<small>shape: (1, 5)</small><table border=\"1\" class=\"dataframe\"><thead><tr><th>subject_id</th><th>timestamp</th><th>is_admission</th><th>is_discharge</th><th>is_any</th></tr><tr><td>i64</td><td>datetime[μs]</td><td>i32</td><td>i32</td><td>i32</td></tr></thead><tbody><tr><td>1721970</td><td>null</td><td>0</td><td>1</td><td>265</td></tr></tbody></table></div>"
      ],
      "text/plain": [
       "shape: (1, 5)\n",
       "┌────────────┬──────────────┬──────────────┬──────────────┬────────┐\n",
       "│ subject_id ┆ timestamp    ┆ is_admission ┆ is_discharge ┆ is_any │\n",
       "│ ---        ┆ ---          ┆ ---          ┆ ---          ┆ ---    │\n",
       "│ i64        ┆ datetime[μs] ┆ i32          ┆ i32          ┆ i32    │\n",
       "╞════════════╪══════════════╪══════════════╪══════════════╪════════╡\n",
       "│ 1721970    ┆ null         ┆ 0            ┆ 1            ┆ 265    │\n",
       "└────────────┴──────────────┴──────────────┴──────────────┴────────┘"
      ]
     },
     "metadata": {},
     "output_type": "display_data"
    },
    {
     "name": "stdout",
     "output_type": "stream",
     "text": [
      "Checking window: input->target\n",
      "2114-09-10 18:16:00 2114-10-10 18:16:00\n",
      "{'is_admission': 1.0, 'is_discharge': 1.0, 'is_any': 2.0}\n"
     ]
    },
    {
     "data": {
      "text/html": [
       "<div><style>\n",
       ".dataframe > thead > tr,\n",
       ".dataframe > tbody > tr {\n",
       "  text-align: right;\n",
       "  white-space: pre-wrap;\n",
       "}\n",
       "</style>\n",
       "<small>shape: (1, 5)</small><table border=\"1\" class=\"dataframe\"><thead><tr><th>subject_id</th><th>timestamp</th><th>is_admission</th><th>is_discharge</th><th>is_any</th></tr><tr><td>i64</td><td>datetime[μs]</td><td>i32</td><td>i32</td><td>i32</td></tr></thead><tbody><tr><td>12996</td><td>null</td><td>1</td><td>1</td><td>2</td></tr></tbody></table></div>"
      ],
      "text/plain": [
       "shape: (1, 5)\n",
       "┌────────────┬──────────────┬──────────────┬──────────────┬────────┐\n",
       "│ subject_id ┆ timestamp    ┆ is_admission ┆ is_discharge ┆ is_any │\n",
       "│ ---        ┆ ---          ┆ ---          ┆ ---          ┆ ---    │\n",
       "│ i64        ┆ datetime[μs] ┆ i32          ┆ i32          ┆ i32    │\n",
       "╞════════════╪══════════════╪══════════════╪══════════════╪════════╡\n",
       "│ 12996      ┆ null         ┆ 1            ┆ 1            ┆ 2      │\n",
       "└────────────┴──────────────┴──────────────┴──────────────┴────────┘"
      ]
     },
     "metadata": {},
     "output_type": "display_data"
    },
    {
     "name": "stdout",
     "output_type": "stream",
     "text": [
      "Checking subject_id: 1883\n",
      "Checking window: trigger->input\n",
      "2156-02-17 12:59:00 2156-03-07 19:00:00\n",
      "{'is_admission': 0, 'is_discharge': 1, 'is_any': 687}\n"
     ]
    },
    {
     "data": {
      "text/html": [
       "<div><style>\n",
       ".dataframe > thead > tr,\n",
       ".dataframe > tbody > tr {\n",
       "  text-align: right;\n",
       "  white-space: pre-wrap;\n",
       "}\n",
       "</style>\n",
       "<small>shape: (1, 5)</small><table border=\"1\" class=\"dataframe\"><thead><tr><th>subject_id</th><th>timestamp</th><th>is_admission</th><th>is_discharge</th><th>is_any</th></tr><tr><td>i64</td><td>datetime[μs]</td><td>i32</td><td>i32</td><td>i32</td></tr></thead><tbody><tr><td>1293621</td><td>null</td><td>0</td><td>1</td><td>687</td></tr></tbody></table></div>"
      ],
      "text/plain": [
       "shape: (1, 5)\n",
       "┌────────────┬──────────────┬──────────────┬──────────────┬────────┐\n",
       "│ subject_id ┆ timestamp    ┆ is_admission ┆ is_discharge ┆ is_any │\n",
       "│ ---        ┆ ---          ┆ ---          ┆ ---          ┆ ---    │\n",
       "│ i64        ┆ datetime[μs] ┆ i32          ┆ i32          ┆ i32    │\n",
       "╞════════════╪══════════════╪══════════════╪══════════════╪════════╡\n",
       "│ 1293621    ┆ null         ┆ 0            ┆ 1            ┆ 687    │\n",
       "└────────────┴──────────────┴──────────────┴──────────────┴────────┘"
      ]
     },
     "metadata": {},
     "output_type": "display_data"
    },
    {
     "name": "stdout",
     "output_type": "stream",
     "text": [
      "Checking window: input->target\n",
      "2156-03-07 19:00:00 2156-04-06 19:00:00\n",
      "{'is_admission': None, 'is_discharge': None, 'is_any': None}\n"
     ]
    },
    {
     "data": {
      "text/html": [
       "<div><style>\n",
       ".dataframe > thead > tr,\n",
       ".dataframe > tbody > tr {\n",
       "  text-align: right;\n",
       "  white-space: pre-wrap;\n",
       "}\n",
       "</style>\n",
       "<small>shape: (1, 5)</small><table border=\"1\" class=\"dataframe\"><thead><tr><th>subject_id</th><th>timestamp</th><th>is_admission</th><th>is_discharge</th><th>is_any</th></tr><tr><td>i64</td><td>datetime[μs]</td><td>i32</td><td>i32</td><td>i32</td></tr></thead><tbody><tr><td>0</td><td>null</td><td>0</td><td>0</td><td>0</td></tr></tbody></table></div>"
      ],
      "text/plain": [
       "shape: (1, 5)\n",
       "┌────────────┬──────────────┬──────────────┬──────────────┬────────┐\n",
       "│ subject_id ┆ timestamp    ┆ is_admission ┆ is_discharge ┆ is_any │\n",
       "│ ---        ┆ ---          ┆ ---          ┆ ---          ┆ ---    │\n",
       "│ i64        ┆ datetime[μs] ┆ i32          ┆ i32          ┆ i32    │\n",
       "╞════════════╪══════════════╪══════════════╪══════════════╪════════╡\n",
       "│ 0          ┆ null         ┆ 0            ┆ 0            ┆ 0      │\n",
       "└────────────┴──────────────┴──────────────┴──────────────┴────────┘"
      ]
     },
     "metadata": {},
     "output_type": "display_data"
    },
    {
     "name": "stdout",
     "output_type": "stream",
     "text": [
      "Checking subject_id: 3897\n",
      "Checking window: trigger->input\n",
      "2184-11-12 21:53:00 2184-11-24 19:50:00\n",
      "{'is_admission': 0, 'is_discharge': 1, 'is_any': 810}\n"
     ]
    },
    {
     "data": {
      "text/html": [
       "<div><style>\n",
       ".dataframe > thead > tr,\n",
       ".dataframe > tbody > tr {\n",
       "  text-align: right;\n",
       "  white-space: pre-wrap;\n",
       "}\n",
       "</style>\n",
       "<small>shape: (1, 5)</small><table border=\"1\" class=\"dataframe\"><thead><tr><th>subject_id</th><th>timestamp</th><th>is_admission</th><th>is_discharge</th><th>is_any</th></tr><tr><td>i64</td><td>datetime[μs]</td><td>i32</td><td>i32</td><td>i32</td></tr></thead><tbody><tr><td>3156570</td><td>null</td><td>0</td><td>1</td><td>810</td></tr></tbody></table></div>"
      ],
      "text/plain": [
       "shape: (1, 5)\n",
       "┌────────────┬──────────────┬──────────────┬──────────────┬────────┐\n",
       "│ subject_id ┆ timestamp    ┆ is_admission ┆ is_discharge ┆ is_any │\n",
       "│ ---        ┆ ---          ┆ ---          ┆ ---          ┆ ---    │\n",
       "│ i64        ┆ datetime[μs] ┆ i32          ┆ i32          ┆ i32    │\n",
       "╞════════════╪══════════════╪══════════════╪══════════════╪════════╡\n",
       "│ 3156570    ┆ null         ┆ 0            ┆ 1            ┆ 810    │\n",
       "└────────────┴──────────────┴──────────────┴──────────────┴────────┘"
      ]
     },
     "metadata": {},
     "output_type": "display_data"
    },
    {
     "name": "stdout",
     "output_type": "stream",
     "text": [
      "Checking window: input->target\n",
      "2184-11-24 19:50:00 2184-12-24 19:50:00\n",
      "{'is_admission': None, 'is_discharge': None, 'is_any': None}\n"
     ]
    },
    {
     "data": {
      "text/html": [
       "<div><style>\n",
       ".dataframe > thead > tr,\n",
       ".dataframe > tbody > tr {\n",
       "  text-align: right;\n",
       "  white-space: pre-wrap;\n",
       "}\n",
       "</style>\n",
       "<small>shape: (1, 5)</small><table border=\"1\" class=\"dataframe\"><thead><tr><th>subject_id</th><th>timestamp</th><th>is_admission</th><th>is_discharge</th><th>is_any</th></tr><tr><td>i64</td><td>datetime[μs]</td><td>i32</td><td>i32</td><td>i32</td></tr></thead><tbody><tr><td>0</td><td>null</td><td>0</td><td>0</td><td>0</td></tr></tbody></table></div>"
      ],
      "text/plain": [
       "shape: (1, 5)\n",
       "┌────────────┬──────────────┬──────────────┬──────────────┬────────┐\n",
       "│ subject_id ┆ timestamp    ┆ is_admission ┆ is_discharge ┆ is_any │\n",
       "│ ---        ┆ ---          ┆ ---          ┆ ---          ┆ ---    │\n",
       "│ i64        ┆ datetime[μs] ┆ i32          ┆ i32          ┆ i32    │\n",
       "╞════════════╪══════════════╪══════════════╪══════════════╪════════╡\n",
       "│ 0          ┆ null         ┆ 0            ┆ 0            ┆ 0      │\n",
       "└────────────┴──────────────┴──────────────┴──────────────┴────────┘"
      ]
     },
     "metadata": {},
     "output_type": "display_data"
    },
    {
     "name": "stdout",
     "output_type": "stream",
     "text": [
      "Checking subject_id: 5546\n",
      "Checking window: trigger->input\n",
      "2157-09-26 21:03:00 2157-09-26 23:35:00\n",
      "{'is_admission': 0, 'is_discharge': 1, 'is_any': 1}\n"
     ]
    },
    {
     "data": {
      "text/html": [
       "<div><style>\n",
       ".dataframe > thead > tr,\n",
       ".dataframe > tbody > tr {\n",
       "  text-align: right;\n",
       "  white-space: pre-wrap;\n",
       "}\n",
       "</style>\n",
       "<small>shape: (1, 5)</small><table border=\"1\" class=\"dataframe\"><thead><tr><th>subject_id</th><th>timestamp</th><th>is_admission</th><th>is_discharge</th><th>is_any</th></tr><tr><td>i64</td><td>datetime[μs]</td><td>i32</td><td>i32</td><td>i32</td></tr></thead><tbody><tr><td>5546</td><td>null</td><td>0</td><td>1</td><td>1</td></tr></tbody></table></div>"
      ],
      "text/plain": [
       "shape: (1, 5)\n",
       "┌────────────┬──────────────┬──────────────┬──────────────┬────────┐\n",
       "│ subject_id ┆ timestamp    ┆ is_admission ┆ is_discharge ┆ is_any │\n",
       "│ ---        ┆ ---          ┆ ---          ┆ ---          ┆ ---    │\n",
       "│ i64        ┆ datetime[μs] ┆ i32          ┆ i32          ┆ i32    │\n",
       "╞════════════╪══════════════╪══════════════╪══════════════╪════════╡\n",
       "│ 5546       ┆ null         ┆ 0            ┆ 1            ┆ 1      │\n",
       "└────────────┴──────────────┴──────────────┴──────────────┴────────┘"
      ]
     },
     "metadata": {},
     "output_type": "display_data"
    },
    {
     "name": "stdout",
     "output_type": "stream",
     "text": [
      "Checking window: input->target\n",
      "2157-09-26 23:35:00 2157-10-26 23:35:00\n",
      "{'is_admission': 1.0, 'is_discharge': 1.0, 'is_any': 2.0}\n"
     ]
    },
    {
     "data": {
      "text/html": [
       "<div><style>\n",
       ".dataframe > thead > tr,\n",
       ".dataframe > tbody > tr {\n",
       "  text-align: right;\n",
       "  white-space: pre-wrap;\n",
       "}\n",
       "</style>\n",
       "<small>shape: (1, 5)</small><table border=\"1\" class=\"dataframe\"><thead><tr><th>subject_id</th><th>timestamp</th><th>is_admission</th><th>is_discharge</th><th>is_any</th></tr><tr><td>i64</td><td>datetime[μs]</td><td>i32</td><td>i32</td><td>i32</td></tr></thead><tbody><tr><td>11092</td><td>null</td><td>1</td><td>1</td><td>2</td></tr></tbody></table></div>"
      ],
      "text/plain": [
       "shape: (1, 5)\n",
       "┌────────────┬──────────────┬──────────────┬──────────────┬────────┐\n",
       "│ subject_id ┆ timestamp    ┆ is_admission ┆ is_discharge ┆ is_any │\n",
       "│ ---        ┆ ---          ┆ ---          ┆ ---          ┆ ---    │\n",
       "│ i64        ┆ datetime[μs] ┆ i32          ┆ i32          ┆ i32    │\n",
       "╞════════════╪══════════════╪══════════════╪══════════════╪════════╡\n",
       "│ 11092      ┆ null         ┆ 1            ┆ 1            ┆ 2      │\n",
       "└────────────┴──────────────┴──────────────┴──────────────┴────────┘"
      ]
     },
     "metadata": {},
     "output_type": "display_data"
    },
    {
     "name": "stdout",
     "output_type": "stream",
     "text": [
      "Checking subject_id: 160\n",
      "Checking window: trigger->input\n",
      "2138-06-10 15:38:00 2138-06-11 00:53:00\n",
      "{'is_admission': 0, 'is_discharge': 1, 'is_any': 1}\n"
     ]
    },
    {
     "data": {
      "text/html": [
       "<div><style>\n",
       ".dataframe > thead > tr,\n",
       ".dataframe > tbody > tr {\n",
       "  text-align: right;\n",
       "  white-space: pre-wrap;\n",
       "}\n",
       "</style>\n",
       "<small>shape: (1, 5)</small><table border=\"1\" class=\"dataframe\"><thead><tr><th>subject_id</th><th>timestamp</th><th>is_admission</th><th>is_discharge</th><th>is_any</th></tr><tr><td>i64</td><td>datetime[μs]</td><td>i32</td><td>i32</td><td>i32</td></tr></thead><tbody><tr><td>160</td><td>null</td><td>0</td><td>1</td><td>1</td></tr></tbody></table></div>"
      ],
      "text/plain": [
       "shape: (1, 5)\n",
       "┌────────────┬──────────────┬──────────────┬──────────────┬────────┐\n",
       "│ subject_id ┆ timestamp    ┆ is_admission ┆ is_discharge ┆ is_any │\n",
       "│ ---        ┆ ---          ┆ ---          ┆ ---          ┆ ---    │\n",
       "│ i64        ┆ datetime[μs] ┆ i32          ┆ i32          ┆ i32    │\n",
       "╞════════════╪══════════════╪══════════════╪══════════════╪════════╡\n",
       "│ 160        ┆ null         ┆ 0            ┆ 1            ┆ 1      │\n",
       "└────────────┴──────────────┴──────────────┴──────────────┴────────┘"
      ]
     },
     "metadata": {},
     "output_type": "display_data"
    },
    {
     "name": "stdout",
     "output_type": "stream",
     "text": [
      "Checking window: input->target\n",
      "2138-06-11 00:53:00 2138-07-11 00:53:00\n",
      "{'is_admission': 1.0, 'is_discharge': 1.0, 'is_any': 2.0}\n"
     ]
    },
    {
     "data": {
      "text/html": [
       "<div><style>\n",
       ".dataframe > thead > tr,\n",
       ".dataframe > tbody > tr {\n",
       "  text-align: right;\n",
       "  white-space: pre-wrap;\n",
       "}\n",
       "</style>\n",
       "<small>shape: (1, 5)</small><table border=\"1\" class=\"dataframe\"><thead><tr><th>subject_id</th><th>timestamp</th><th>is_admission</th><th>is_discharge</th><th>is_any</th></tr><tr><td>i64</td><td>datetime[μs]</td><td>i32</td><td>i32</td><td>i32</td></tr></thead><tbody><tr><td>320</td><td>null</td><td>1</td><td>1</td><td>2</td></tr></tbody></table></div>"
      ],
      "text/plain": [
       "shape: (1, 5)\n",
       "┌────────────┬──────────────┬──────────────┬──────────────┬────────┐\n",
       "│ subject_id ┆ timestamp    ┆ is_admission ┆ is_discharge ┆ is_any │\n",
       "│ ---        ┆ ---          ┆ ---          ┆ ---          ┆ ---    │\n",
       "│ i64        ┆ datetime[μs] ┆ i32          ┆ i32          ┆ i32    │\n",
       "╞════════════╪══════════════╪══════════════╪══════════════╪════════╡\n",
       "│ 320        ┆ null         ┆ 1            ┆ 1            ┆ 2      │\n",
       "└────────────┴──────────────┴──────────────┴──────────────┴────────┘"
      ]
     },
     "metadata": {},
     "output_type": "display_data"
    },
    {
     "name": "stdout",
     "output_type": "stream",
     "text": [
      "Checking subject_id: 2836\n",
      "Checking window: trigger->input\n",
      "2172-12-02 00:26:00 2172-12-03 14:01:00\n",
      "{'is_admission': 0, 'is_discharge': 1, 'is_any': 1}\n"
     ]
    },
    {
     "data": {
      "text/html": [
       "<div><style>\n",
       ".dataframe > thead > tr,\n",
       ".dataframe > tbody > tr {\n",
       "  text-align: right;\n",
       "  white-space: pre-wrap;\n",
       "}\n",
       "</style>\n",
       "<small>shape: (1, 5)</small><table border=\"1\" class=\"dataframe\"><thead><tr><th>subject_id</th><th>timestamp</th><th>is_admission</th><th>is_discharge</th><th>is_any</th></tr><tr><td>i64</td><td>datetime[μs]</td><td>i32</td><td>i32</td><td>i32</td></tr></thead><tbody><tr><td>2836</td><td>null</td><td>0</td><td>1</td><td>1</td></tr></tbody></table></div>"
      ],
      "text/plain": [
       "shape: (1, 5)\n",
       "┌────────────┬──────────────┬──────────────┬──────────────┬────────┐\n",
       "│ subject_id ┆ timestamp    ┆ is_admission ┆ is_discharge ┆ is_any │\n",
       "│ ---        ┆ ---          ┆ ---          ┆ ---          ┆ ---    │\n",
       "│ i64        ┆ datetime[μs] ┆ i32          ┆ i32          ┆ i32    │\n",
       "╞════════════╪══════════════╪══════════════╪══════════════╪════════╡\n",
       "│ 2836       ┆ null         ┆ 0            ┆ 1            ┆ 1      │\n",
       "└────────────┴──────────────┴──────────────┴──────────────┴────────┘"
      ]
     },
     "metadata": {},
     "output_type": "display_data"
    },
    {
     "name": "stdout",
     "output_type": "stream",
     "text": [
      "Checking window: input->target\n",
      "2172-12-03 14:01:00 2173-01-02 14:01:00\n",
      "{'is_admission': 1.0, 'is_discharge': 1.0, 'is_any': 2.0}\n"
     ]
    },
    {
     "data": {
      "text/html": [
       "<div><style>\n",
       ".dataframe > thead > tr,\n",
       ".dataframe > tbody > tr {\n",
       "  text-align: right;\n",
       "  white-space: pre-wrap;\n",
       "}\n",
       "</style>\n",
       "<small>shape: (1, 5)</small><table border=\"1\" class=\"dataframe\"><thead><tr><th>subject_id</th><th>timestamp</th><th>is_admission</th><th>is_discharge</th><th>is_any</th></tr><tr><td>i64</td><td>datetime[μs]</td><td>i32</td><td>i32</td><td>i32</td></tr></thead><tbody><tr><td>5672</td><td>null</td><td>1</td><td>1</td><td>2</td></tr></tbody></table></div>"
      ],
      "text/plain": [
       "shape: (1, 5)\n",
       "┌────────────┬──────────────┬──────────────┬──────────────┬────────┐\n",
       "│ subject_id ┆ timestamp    ┆ is_admission ┆ is_discharge ┆ is_any │\n",
       "│ ---        ┆ ---          ┆ ---          ┆ ---          ┆ ---    │\n",
       "│ i64        ┆ datetime[μs] ┆ i32          ┆ i32          ┆ i32    │\n",
       "╞════════════╪══════════════╪══════════════╪══════════════╪════════╡\n",
       "│ 5672       ┆ null         ┆ 1            ┆ 1            ┆ 2      │\n",
       "└────────────┴──────────────┴──────────────┴──────────────┴────────┘"
      ]
     },
     "metadata": {},
     "output_type": "display_data"
    }
   ],
   "source": [
    "# config_path = '../sample_configs/inhospital_mortality.yaml'\n",
    "# config_path = '../sample_configs/abnormal_lab.yaml'\n",
    "# config_path = '../sample_configs/imminent_mortality.yaml'\n",
    "# config_path = '../sample_configs/intervention_weaning.yaml'\n",
    "# config_path = '../sample_configs/long_term_incidence.yaml'\n",
    "config_path = '../sample_configs/readmission_risk.yaml'\n",
    "validate_query(config_path, data_path, ESD_data, samples=10, verbose=True, seed=42)"
   ]
  }
 ],
 "metadata": {
  "kernelspec": {
   "display_name": "esgpt",
   "language": "python",
   "name": "python3"
  },
  "language_info": {
   "codemirror_mode": {
    "name": "ipython",
    "version": 3
   },
   "file_extension": ".py",
   "mimetype": "text/x-python",
   "name": "python",
   "nbconvert_exporter": "python",
   "pygments_lexer": "ipython3",
   "version": "3.10.13"
  }
 },
 "nbformat": 4,
 "nbformat_minor": 2
}
