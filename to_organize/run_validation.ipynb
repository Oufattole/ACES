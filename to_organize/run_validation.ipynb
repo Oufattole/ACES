{
 "cells": [
  {
   "cell_type": "code",
   "execution_count": 2,
   "metadata": {},
   "outputs": [
    {
     "name": "stderr",
     "output_type": "stream",
     "text": [
      "/home/justinxu/miniconda3/envs/esgpt/lib/python3.10/site-packages/tqdm/auto.py:21: TqdmWarning: IProgress not found. Please update jupyter and ipywidgets. See https://ipywidgets.readthedocs.io/en/stable/user_install.html\n",
      "  from .autonotebook import tqdm as notebook_tqdm\n"
     ]
    },
    {
     "data": {
      "text/plain": [
       "'/home/justinxu/esgpt/ESGPTTaskQuerying/to_organize'"
      ]
     },
     "execution_count": 2,
     "metadata": {},
     "output_type": "execute_result"
    }
   ],
   "source": [
    "import os\n",
    "import pandas as pd\n",
    "import polars as pl\n",
    "from pathlib import Path\n",
    "\n",
    "from esgpt_task_querying import main\n",
    "from EventStream.data.dataset_polars import Dataset\n",
    "\n",
    "%load_ext autoreload\n",
    "%autoreload 2\n",
    "\n",
    "pd.set_option('display.max_rows', 100)\n",
    "pl.Config.set_tbl_cols(100)\n",
    "pl.Config.set_tbl_rows(100)\n",
    "\n",
    "data_path = '../MIMIC_ESD_new_schema_08-31-23-1'\n",
    "os.getcwd()"
   ]
  },
  {
   "cell_type": "code",
   "execution_count": 3,
   "metadata": {},
   "outputs": [
    {
     "name": "stdout",
     "output_type": "stream",
     "text": [
      "Updating config.save_dir from /n/data1/hms/dbmi/zaklab/RAMMS/data/MIMIC_IV/ESD_new_schema_08-31-23-1 to ../MIMIC_ESD_new_schema_08-31-23-1\n",
      "Loading events from ../MIMIC_ESD_new_schema_08-31-23-1/events_df.parquet...\n",
      "Loading dynamic_measurements from ../MIMIC_ESD_new_schema_08-31-23-1/dynamic_measurements_df.parquet...\n"
     ]
    }
   ],
   "source": [
    "DATA_DIR = Path(data_path)\n",
    "ESD = Dataset.load(DATA_DIR)\n",
    "\n",
    "events_df = ESD.events_df.filter(~pl.all_horizontal(pl.all().is_null()))\n",
    "dynamic_measurements_df = ESD.dynamic_measurements_df.filter(\n",
    "    ~pl.all_horizontal(pl.all().is_null())\n",
    ")\n",
    "\n",
    "ESD_data = (\n",
    "    events_df.join(dynamic_measurements_df, on=\"event_id\", how=\"left\")\n",
    "    .drop([\"event_id\"])\n",
    "    .sort(by=[\"subject_id\", \"timestamp\", \"event_type\"])\n",
    ")\n",
    "\n",
    "if ESD_data[\"timestamp\"].dtype != pl.Datetime:\n",
    "    ESD_data = ESD_data.with_columns(\n",
    "        pl.col(\"timestamp\")\n",
    "        .str.strptime(pl.Datetime, format=\"%m/%d/%Y %H:%M\")\n",
    "        .cast(pl.Datetime)\n",
    "    )"
   ]
  },
  {
   "cell_type": "code",
   "execution_count": null,
   "metadata": {},
   "outputs": [],
   "source": [
    "def has_event_type(type_str: str) -> pl.Expr:\n",
    "    has_event_type = pl.col(\"event_type\").cast(pl.Utf8).str.contains(type_str)\n",
    "    # has_event_type = event_types.str.contains(type_str)\n",
    "    return has_event_type"
   ]
  },
  {
   "cell_type": "code",
   "execution_count": null,
   "metadata": {},
   "outputs": [],
   "source": [
    "def validate_query(config_path, data_path, ESD_data, samples=10, verbose=False, seed=42):\n",
    "    cfg = main.load_config(config_path)\n",
    "    df_data = main.generate_predicate_columns(cfg, ESD_data, verbose=verbose)\n",
    "\n",
    "    df_result = main.query_task(config_path, data_path, verbose=verbose)\n",
    "\n",
    "    if df_result.shape[0] == 0:\n",
    "        print(\"No results found.\")\n",
    "        return\n",
    "\n",
    "    try:\n",
    "        validation = df_result.sample(samples, seed=seed)\n",
    "        print(validation)\n",
    "        validation = validation.to_pandas()\n",
    "    except:\n",
    "        validation = df_result.to_pandas()\n",
    "\n",
    "    # validation = df_result.filter(df_result['subject_id'] == 1916).to_pandas()\n",
    "\n",
    "    for i, row in validation.iterrows():\n",
    "        if i % 100 == 0:\n",
    "            print(f\"Validating row: {i}/{len(validation)}...\")\n",
    "        #filter ESD_data for the subject_id\n",
    "        subject_id = row['subject_id']\n",
    "        filtered_data = df_data.filter(pl.col(\"subject_id\") == subject_id)\n",
    "\n",
    "        if verbose:\n",
    "            print('Checking subject_id:', subject_id)\n",
    "\n",
    "        #sort the values of every column that has 'timestamp' in its name\n",
    "        timestamps = []\n",
    "        for col in validation.columns:\n",
    "            if 'timestamp' in col:\n",
    "                timestamps.append((row[col], col))\n",
    "        timestamps.sort(key=lambda x: x[0])\n",
    "\n",
    "        filtered_data = filtered_data.filter(pl.col(\"timestamp\") >= timestamps[0][0])\n",
    "        filtered_data = filtered_data.filter(pl.col(\"timestamp\") <= timestamps[-1][0])\n",
    "\n",
    "        trigger_event = f'is_{cfg.windows.trigger.start}'\n",
    "        assert filtered_data.filter(pl.col(\"timestamp\") == row['trigger/timestamp']).select(trigger_event).to_pandas().values.flatten()[0] == 1\n",
    "        \n",
    "        after_trigger = False\n",
    "        for i in range(len(timestamps)-1):\n",
    "            window = timestamps[i]\n",
    "            name = window[1].split('/')[0]\n",
    "            if verbose:\n",
    "                print(f\"Checking window: {name}->{timestamps[i+1][1].split('/')[0]}\")\n",
    "            if name == 'trigger':\n",
    "                after_trigger = True\n",
    "            if after_trigger:\n",
    "                name = timestamps[i+1][1].split('/')[0]\n",
    "\n",
    "            if verbose:\n",
    "                print(timestamps[i][0], timestamps[i+1][0])\n",
    "                print(row[f'{name}/window_summary'])\n",
    "            window_data = filtered_data.filter(pl.col(\"timestamp\") > timestamps[i][0])\n",
    "            window_data = window_data.filter(pl.col(\"timestamp\") <= timestamps[i+1][0])\n",
    "\n",
    "            sum_counts = window_data.sum()\n",
    "            if verbose:\n",
    "                display(sum_counts)\n",
    "\n",
    "            for predicate in row[f'{name}/window_summary']:\n",
    "                count = row[f'{name}/window_summary'][predicate]\n",
    "                if not count:\n",
    "                    count = 0\n",
    "                assert sum_counts.select(predicate).to_pandas().values.flatten()[0] == count, (subject_id, timestamps[i][0], timestamps[i+1][0], row[f'{name}/window_summary'], sum_counts)"
   ]
  },
  {
   "cell_type": "code",
   "execution_count": null,
   "metadata": {},
   "outputs": [
    {
     "ename": "NameError",
     "evalue": "name 'validate_query' is not defined",
     "output_type": "error",
     "traceback": [
      "\u001b[0;31m---------------------------------------------------------------------------\u001b[0m",
      "\u001b[0;31mNameError\u001b[0m                                 Traceback (most recent call last)",
      "Cell \u001b[0;32mIn[1], line 8\u001b[0m\n\u001b[1;32m      4\u001b[0m config_path \u001b[38;5;241m=\u001b[39m \u001b[38;5;124m'\u001b[39m\u001b[38;5;124m../sample_configs/intervention_weaning.yaml\u001b[39m\u001b[38;5;124m'\u001b[39m\n\u001b[1;32m      5\u001b[0m \u001b[38;5;66;03m# config_path = '../sample_configs/long_term_incidence.yaml'\u001b[39;00m\n\u001b[1;32m      6\u001b[0m \u001b[38;5;66;03m# config_path = '../sample_configs/outlier_detection.yaml'\u001b[39;00m\n\u001b[1;32m      7\u001b[0m \u001b[38;5;66;03m# config_path = '../sample_configs/readmission_risk.yaml'\u001b[39;00m\n\u001b[0;32m----> 8\u001b[0m \u001b[43mvalidate_query\u001b[49m(config_path, data_path, ESD_data, samples\u001b[38;5;241m=\u001b[39m\u001b[38;5;241m10\u001b[39m, verbose\u001b[38;5;241m=\u001b[39m\u001b[38;5;28;01mTrue\u001b[39;00m, seed\u001b[38;5;241m=\u001b[39m\u001b[38;5;241m42\u001b[39m)\n",
      "\u001b[0;31mNameError\u001b[0m: name 'validate_query' is not defined"
     ]
    }
   ],
   "source": [
    "# config_path = '../sample_configs/inhospital_mortality.yaml'\n",
    "# config_path = '../sample_configs/abnormal_lab.yaml'\n",
    "# config_path = '../sample_configs/imminent_mortality.yaml'\n",
    "config_path = '../sample_configs/intervention_weaning.yaml'\n",
    "# config_path = '../sample_configs/long_term_incidence.yaml'\n",
    "# config_path = '../sample_configs/outlier_detection.yaml'\n",
    "# config_path = '../sample_configs/readmission_risk.yaml'\n",
    "validate_query(config_path, data_path, ESD_data, samples=10, verbose=True, seed=42)"
   ]
  }
 ],
 "metadata": {
  "kernelspec": {
   "display_name": "esgpt",
   "language": "python",
   "name": "python3"
  },
  "language_info": {
   "codemirror_mode": {
    "name": "ipython",
    "version": 3
   },
   "file_extension": ".py",
   "mimetype": "text/x-python",
   "name": "python",
   "nbconvert_exporter": "python",
   "pygments_lexer": "ipython3",
   "version": "3.10.13"
  }
 },
 "nbformat": 4,
 "nbformat_minor": 2
}
